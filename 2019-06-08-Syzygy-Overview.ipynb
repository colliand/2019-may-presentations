{
 "cells": [
  {
   "cell_type": "markdown",
   "metadata": {
    "nbpresent": {
     "id": "2bf1e17f-b9af-4103-8d16-9a5c50b83336"
    },
    "slideshow": {
     "slide_type": "slide"
    }
   },
   "source": [
    "\n",
    "\n",
    "<img src=\"https://wwejubwfy.s3.amazonaws.com/Image_uuWom2GOXS.png\" alt=\"PIMS logo\" width=1000 align = \"center\">\n",
    "\n",
    "## <div style=\"text-align: right\"> Interactive Computing for Education and Research at International Scale\t</div>\n",
    "\n",
    "## <div style=\"text-align: right\"> [James Colliander](http://colliand.com/), PIMS </div>\n",
    "\n",
    "\n",
    "\n"
   ]
  },
  {
   "cell_type": "markdown",
   "metadata": {
    "slideshow": {
     "slide_type": "subslide"
    }
   },
   "source": [
    "\n",
    "\n",
    "<img src=\"https://jupyter.org/assets/hublogo.svg\" alt=\"Jupyter logo\" width=800 align = \"center\">"
   ]
  },
  {
   "cell_type": "markdown",
   "metadata": {
    "slideshow": {
     "slide_type": "subslide"
    }
   },
   "source": [
    "<img src=\"https://wwejubwfy.s3.amazonaws.com/Web_Image_2017-06-11_16-17-00.png\" alt=\"Cybera logo\" width=380 align = \"middle\">\n",
    "\n",
    "<br>\n",
    "\n",
    "<img src=\"https://wwejubwfy.s3.amazonaws.com/Web_Image_2017-06-11_16-21-43.png\" alt=\"Compute Canada logo\" width=280 align = \"left\">\n",
    "\n",
    "\n",
    "\n",
    "<img src=\"https://wwejubwfy.s3.amazonaws.com/pims3.png\" alt=\"PIMS logo\" width=260 align = \"right\">"
   ]
  },
  {
   "cell_type": "markdown",
   "metadata": {
    "slideshow": {
     "slide_type": "subslide"
    }
   },
   "source": [
    "# Takeaway Messages"
   ]
  },
  {
   "cell_type": "markdown",
   "metadata": {
    "slideshow": {
     "slide_type": "fragment"
    }
   },
   "source": [
    "1. Interactive computing changing the global research ecosystem."
   ]
  },
  {
   "cell_type": "markdown",
   "metadata": {
    "slideshow": {
     "slide_type": "fragment"
    }
   },
   "source": [
    "2. PIMS deployed syzygy/Callysto, validated benefits, demonstrated scalability but…"
   ]
  },
  {
   "cell_type": "markdown",
   "metadata": {
    "slideshow": {
     "slide_type": "fragment"
    }
   },
   "source": [
    "3. A new umbrella organization to support interactive computing is needed."
   ]
  },
  {
   "cell_type": "code",
   "execution_count": 18,
   "metadata": {
    "slideshow": {
     "slide_type": "skip"
    }
   },
   "outputs": [],
   "source": [
    "incomplete_thanks = [\"Barb Carra\",\n",
    " \"Byron Chu\",\n",
    " \"David Chan\",\n",
    " \"Eric Easthope\",\n",
    " \"Félix-Antoine Fortin\",\n",
    " \"Fernando Perez\",\n",
    " \"Ian Allison\",\n",
    " \"India Heisz\",\n",
    " \"Anthony Quas\",                     \n",
    " \"Jack Parmer\",\n",
    " \"Jesse Perla\",                    \n",
    " \"Laura Gutierrez-Funderburk\",\n",
    " \"Lindsey Heagy\",\n",
    " \"Lorena Barba\",\n",
    " \"Michael Lamoureux\",\n",
    " \"Dugan O'Neil\",\n",
    " \"Patrick Walls\",\n",
    " \"Sean Fitzpatrick\"]"
   ]
  },
  {
   "cell_type": "code",
   "execution_count": 19,
   "metadata": {
    "slideshow": {
     "slide_type": "subslide"
    }
   },
   "outputs": [
    {
     "data": {
      "text/plain": [
       "['Barb Carra',\n",
       " 'Byron Chu',\n",
       " 'David Chan',\n",
       " 'Eric Easthope',\n",
       " 'Félix-Antoine Fortin',\n",
       " 'Fernando Perez',\n",
       " 'Ian Allison',\n",
       " 'India Heisz',\n",
       " 'Anthony Quas',\n",
       " 'Jack Parmer',\n",
       " 'Jesse Perla',\n",
       " 'Laura Gutierrez-Funderburk',\n",
       " 'Lindsey Heagy',\n",
       " 'Lorena Barba',\n",
       " 'Michael Lamoureux',\n",
       " \"Dugan O'Neil\",\n",
       " 'Patrick Walls',\n",
       " 'Sean Fitzpatrick']"
      ]
     },
     "execution_count": 19,
     "metadata": {},
     "output_type": "execute_result"
    }
   ],
   "source": [
    "incomplete_thanks"
   ]
  },
  {
   "cell_type": "markdown",
   "metadata": {
    "slideshow": {
     "slide_type": "subslide"
    }
   },
   "source": [
    "## Links to Follow Along\n",
    "\n",
    "### [bit.ly/pims-matrix](http://bit.ly/pims-matrix) (Google authentication)\n",
    "### [bit.ly/uvic-matrix](http://bit.ly/uvic-matrix) (UVic authentication)"
   ]
  },
  {
   "cell_type": "markdown",
   "metadata": {
    "slideshow": {
     "slide_type": "subslide"
    }
   },
   "source": [
    "<img src=\"https://wwejubwfy.s3.amazonaws.com/Generic-Jupyter_Intro_-_Google_Slides_2019-06-09_11-55-02.png\" alt=\"PIMS Map\" width=800 align = \"middle\">\n"
   ]
  },
  {
   "cell_type": "markdown",
   "metadata": {
    "slideshow": {
     "slide_type": "subslide"
    }
   },
   "source": [
    "# Outline\n",
    "\n",
    "## 1. Interactive Computing\n",
    "\n",
    "## 2. Syzygy\n",
    "\n",
    "## 3. Lesson Learned\n",
    "\n",
    "## 4. Future State\n",
    "\n",
    "## 5. Discussion"
   ]
  },
  {
   "cell_type": "markdown",
   "metadata": {
    "slideshow": {
     "slide_type": "slide"
    }
   },
   "source": [
    "## 1. Interactive Computing"
   ]
  },
  {
   "cell_type": "markdown",
   "metadata": {
    "slideshow": {
     "slide_type": "subslide"
    }
   },
   "source": [
    "## 1. Example:  What is a Jupyter notebook?\n",
    "\n",
    "- combines text, math formulas, and active computer code.\n",
    "- includes rich display: slideshows, animations, videos, etc\n",
    "- builds on the languages Julia, Python, R and more\n",
    "- friendly interface through any modern browser\n",
    "- runs smoothly over the internet, or on your laptop"
   ]
  },
  {
   "cell_type": "markdown",
   "metadata": {
    "slideshow": {
     "slide_type": "fragment"
    }
   },
   "source": [
    "## There are other interactive computing platforms."
   ]
  },
  {
   "cell_type": "markdown",
   "metadata": {
    "slideshow": {
     "slide_type": "subslide"
    }
   },
   "source": [
    "## Use Markdown language\n",
    "- for plain text, headers, even slideshows (like this one!)\n",
    "- to make lists, insert math: $F(x) = \\int_0^x f(s) ds + C$, format text\n",
    "- insert *italics* and **bold** for emphasis, even quotations: \n",
    "\n",
    "> \"Humans are allergic to change. They love to say, \"We've always done it this way.\" I try to fight that. That's why I have a clock on my wall that runs counter-clockwise.\" -Grace Hopper"
   ]
  },
  {
   "cell_type": "markdown",
   "metadata": {
    "slideshow": {
     "slide_type": "fragment"
    }
   },
   "source": [
    "* export to html, PDF, Markdown, LaTex, ..."
   ]
  },
  {
   "cell_type": "code",
   "execution_count": 5,
   "metadata": {
    "slideshow": {
     "slide_type": "subslide"
    }
   },
   "outputs": [],
   "source": [
    "from pylab import *"
   ]
  },
  {
   "cell_type": "markdown",
   "metadata": {
    "slideshow": {
     "slide_type": "fragment"
    }
   },
   "source": [
    "We can use Python for simple calculations"
   ]
  },
  {
   "cell_type": "code",
   "execution_count": 6,
   "metadata": {
    "slideshow": {
     "slide_type": "fragment"
    }
   },
   "outputs": [
    {
     "data": {
      "text/plain": [
       "343"
      ]
     },
     "execution_count": 6,
     "metadata": {},
     "output_type": "execute_result"
    }
   ],
   "source": [
    "(3+4)**3"
   ]
  },
  {
   "cell_type": "code",
   "execution_count": 7,
   "metadata": {
    "slideshow": {
     "slide_type": "fragment"
    }
   },
   "outputs": [
    {
     "data": {
      "text/plain": [
       "456533"
      ]
     },
     "execution_count": 7,
     "metadata": {},
     "output_type": "execute_result"
    }
   ],
   "source": [
    "(4 + 5 + 65 + 3)**3"
   ]
  },
  {
   "cell_type": "code",
   "execution_count": 8,
   "metadata": {
    "slideshow": {
     "slide_type": "fragment"
    }
   },
   "outputs": [
    {
     "data": {
      "text/plain": [
       "2592"
      ]
     },
     "execution_count": 8,
     "metadata": {},
     "output_type": "execute_result"
    }
   ],
   "source": [
    "2**5 * 9**2"
   ]
  },
  {
   "cell_type": "markdown",
   "metadata": {
    "slideshow": {
     "slide_type": "subslide"
    }
   },
   "source": [
    "## Sonification\n",
    "\n",
    "Generate sound algorithmically, and play it. "
   ]
  },
  {
   "cell_type": "code",
   "execution_count": 9,
   "metadata": {
    "slideshow": {
     "slide_type": "fragment"
    }
   },
   "outputs": [],
   "source": [
    "from IPython.display import Audio"
   ]
  },
  {
   "cell_type": "code",
   "execution_count": 10,
   "metadata": {
    "slideshow": {
     "slide_type": "fragment"
    }
   },
   "outputs": [
    {
     "name": "stderr",
     "output_type": "stream",
     "text": [
      "/opt/conda/lib/python3.7/site-packages/ipykernel_launcher.py:3: DeprecationWarning: object of type <class 'float'> cannot be safely interpreted as an integer.\n",
      "  This is separate from the ipykernel package so we can avoid doing imports until\n"
     ]
    },
    {
     "data": {
      "text/html": [
       "\n",
       "                <audio  controls=\"controls\" >\n",
       "                    <source src=\"data:audio/wav;base64,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\" type=\"audio/wav\" />\n",
       "                    Your browser does not support the audio element.\n",
       "                </audio>\n",
       "              "
      ],
      "text/plain": [
       "<IPython.lib.display.Audio object>"
      ]
     },
     "execution_count": 10,
     "metadata": {},
     "output_type": "execute_result"
    }
   ],
   "source": [
    "Fs = 8000.0\n",
    "Len = 3\n",
    "t = linspace(0,Len,Fs*Len)\n",
    "f1 = 440.0\n",
    "f2 = 449.0\n",
    "signal = sin(2*pi*f1*t) + sin(2*pi*f2*t)\n",
    "\n",
    "Audio(data=signal, rate=Fs)"
   ]
  },
  {
   "cell_type": "markdown",
   "metadata": {
    "slideshow": {
     "slide_type": "subslide"
    }
   },
   "source": [
    "# Embed YouTube videos"
   ]
  },
  {
   "cell_type": "code",
   "execution_count": 11,
   "metadata": {
    "slideshow": {
     "slide_type": "fragment"
    }
   },
   "outputs": [
    {
     "data": {
      "image/jpeg": "[encoded data removed]",
      "text/html": [
       "\n",
       "        <iframe\n",
       "            width=\"400\"\n",
       "            height=\"300\"\n",
       "            src=\"https://www.youtube.com/embed/J58GU5iiYzQ\"\n",
       "            frameborder=\"0\"\n",
       "            allowfullscreen\n",
       "        ></iframe>\n",
       "        "
      ],
      "text/plain": [
       "<IPython.lib.display.YouTubeVideo at 0x7fbcbf8e0c88>"
      ]
     },
     "execution_count": 11,
     "metadata": {},
     "output_type": "execute_result"
    }
   ],
   "source": [
    "from IPython.display import YouTubeVideo\n",
    "# SFU-Tla'amin Nation for Callysto: Tech and math preserve Indigenous culture and the art of basket weaving\n",
    "YouTubeVideo('J58GU5iiYzQ')"
   ]
  },
  {
   "cell_type": "markdown",
   "metadata": {
    "slideshow": {
     "slide_type": "subslide"
    }
   },
   "source": [
    "We can include dynamic, interactive simulations, with just a little code."
   ]
  },
  {
   "cell_type": "code",
   "execution_count": 12,
   "metadata": {
    "slideshow": {
     "slide_type": "skip"
    }
   },
   "outputs": [
    {
     "name": "stdout",
     "output_type": "stream",
     "text": [
      "Writing f1.template\n"
     ]
    }
   ],
   "source": [
    "%%writefile f1.template\n",
    "<!DOCTYPE html>\n",
    "<html>\n",
    "    <meta http-equiv=\"Content-Type\" content=\"text/html;charset=utf-8\"/>\n",
    "    <script type=\"text/javascript\" src=\"https://mbostock.github.io/d3/talk/20111018/d3/d3.js\"></script>\n",
    "    <script type=\"text/javascript\" src=\"https://mbostock.github.io/d3/talk/20111018/d3/d3.geom.js\"></script>\n",
    "    <script type=\"text/javascript\" src=\"https://mbostock.github.io/d3/talk/20111018/d3/d3.layout.js\"></script>\n",
    "    <style type=\"text/css\">\n",
    "\n",
    "circle {\n",
    "  stroke: #000;\n",
    "  stroke-opacity: .5;\n",
    "}\n",
    "\n",
    "    </style>\n",
    "  <body>\n",
    "    <div id=\"body\">\n",
    "    <script type=\"text/javascript\">\n",
    "\n",
    "var w = {width},\n",
    "    h = {height};\n",
    "\n",
    "var nodes = d3.range({ball_count}).map(function() { return {radius: Math.random() * {rad_fac} + {rad_min}}; }),\n",
    "    color = d3.scale.category10();\n",
    "\n",
    "var force = d3.layout.force()\n",
    "    .gravity(0.1)\n",
    "    .charge(function(d, i) { return i ? 0 : -2000; })\n",
    "    .nodes(nodes)\n",
    "    .size([w, h]);\n",
    "\n",
    "var root = nodes[0];\n",
    "root.radius = 0;\n",
    "root.fixed = true;\n",
    "\n",
    "force.start();\n",
    "\n",
    "var svg = d3.select(\"#body\").append(\"svg:svg\")\n",
    "    .attr(\"width\", w)\n",
    "    .attr(\"height\", h);\n",
    "\n",
    "svg.selectAll(\"circle\")\n",
    "    .data(nodes.slice(1))\n",
    "  .enter().append(\"svg:circle\")\n",
    "    .attr(\"r\", function(d) { return d.radius - 2; })\n",
    "    .style(\"fill\", function(d, i) { return color(i % {color_count}); });\n",
    "\n",
    "force.on(\"tick\", function(e) {\n",
    "  var q = d3.geom.quadtree(nodes),\n",
    "      i = 0,\n",
    "      n = nodes.length;\n",
    "\n",
    "  while (++i < n) {\n",
    "    q.visit(collide(nodes[i]));\n",
    "  }\n",
    "\n",
    "  svg.selectAll(\"circle\")\n",
    "      .attr(\"cx\", function(d) { return d.x; })\n",
    "      .attr(\"cy\", function(d) { return d.y; });\n",
    "});\n",
    "\n",
    "svg.on(\"mousemove\", function() {\n",
    "  var p1 = d3.svg.mouse(this);\n",
    "  root.px = p1[0];\n",
    "  root.py = p1[1];\n",
    "  force.resume();\n",
    "});\n",
    "\n",
    "function collide(node) {\n",
    "  var r = node.radius + 16,\n",
    "      nx1 = node.x - r,\n",
    "      nx2 = node.x + r,\n",
    "      ny1 = node.y - r,\n",
    "      ny2 = node.y + r;\n",
    "  return function(quad, x1, y1, x2, y2) {\n",
    "    if (quad.point && (quad.point !== node)) {\n",
    "      var x = node.x - quad.point.x,\n",
    "          y = node.y - quad.point.y,\n",
    "          l = Math.sqrt(x * x + y * y),\n",
    "          r = node.radius + quad.point.radius;\n",
    "      if (l < r) {\n",
    "        l = (l - r) / l * .5;\n",
    "        node.x -= x *= l;\n",
    "        node.y -= y *= l;\n",
    "        quad.point.x += x;\n",
    "        quad.point.y += y;\n",
    "      }\n",
    "    }\n",
    "    return x1 > nx2\n",
    "        || x2 < nx1\n",
    "        || y1 > ny2\n",
    "        || y2 < ny1;\n",
    "  };\n",
    "}\n",
    "\n",
    "    </script>\n",
    "  </body>\n",
    "</html>\n"
   ]
  },
  {
   "cell_type": "code",
   "execution_count": 13,
   "metadata": {
    "slideshow": {
     "slide_type": "skip"
    }
   },
   "outputs": [],
   "source": [
    "from IPython.display import IFrame\n",
    "import re\n",
    "\n",
    "def replace_all(txt,d):\n",
    "    rep = dict((re.escape('{'+k+'}'), str(v)) for k, v in d.items())\n",
    "    pattern = re.compile(\"|\".join(rep.keys()))\n",
    "    return pattern.sub(lambda m: rep[re.escape(m.group(0))], txt)    \n",
    "\n",
    "count=0\n",
    "def serve_html(s,w,h):\n",
    "    import os\n",
    "    global count\n",
    "    count+=1\n",
    "    fn= '__tmp'+str(os.getpid())+'_'+str(count)+'.html'\n",
    "    with open(fn,'w') as f:\n",
    "        f.write(s)\n",
    "    return IFrame('files/'+fn,w,h)\n",
    "\n",
    "def f1(w=500,h=400,ball_count=150,rad_min=2,rad_fac=11,color_count=3):\n",
    "    d={\n",
    "       'width'      :w,\n",
    "       'height'     :h,\n",
    "       'ball_count' :ball_count,\n",
    "       'rad_min'    :rad_min,\n",
    "       'rad_fac'    :rad_fac,\n",
    "       'color_count':color_count\n",
    "       }\n",
    "    with open('f1.template','r') as f:\n",
    "        s=f.read()\n",
    "    s= replace_all(s,d)        \n",
    "    return serve_html(s,w+30,h+30)"
   ]
  },
  {
   "cell_type": "code",
   "execution_count": 17,
   "metadata": {
    "slideshow": {
     "slide_type": "subslide"
    }
   },
   "outputs": [
    {
     "data": {
      "text/html": [
       "\n",
       "        <iframe\n",
       "            width=\"630\"\n",
       "            height=\"430\"\n",
       "            src=\"files/__tmp49_2.html\"\n",
       "            frameborder=\"0\"\n",
       "            allowfullscreen\n",
       "        ></iframe>\n",
       "        "
      ],
      "text/plain": [
       "<IPython.lib.display.IFrame at 0x7fbcbf822358>"
      ]
     },
     "execution_count": 17,
     "metadata": {},
     "output_type": "execute_result"
    }
   ],
   "source": [
    "# Moving ball simulation\n",
    "f1(ball_count=50, color_count=20, rad_fac=20, rad_min=1, w=600) "
   ]
  },
  {
   "cell_type": "markdown",
   "metadata": {
    "slideshow": {
     "slide_type": "subslide"
    }
   },
   "source": [
    "# Examples"
   ]
  },
  {
   "cell_type": "markdown",
   "metadata": {
    "collapsed": true,
    "slideshow": {
     "slide_type": "subslide"
    }
   },
   "source": [
    "# Open Data Integration\n"
   ]
  },
  {
   "cell_type": "markdown",
   "metadata": {
    "slideshow": {
     "slide_type": "fragment"
    }
   },
   "source": [
    "1. Explore Statistics Canada (Provincial GDP by Industry)\n",
    "2. Explore NSERC Awards Data (Total Awards by University)\n",
    "3. Investigate reproducible research on black hole collisions measured by LIGO"
   ]
  },
  {
   "cell_type": "markdown",
   "metadata": {
    "slideshow": {
     "slide_type": "subslide"
    }
   },
   "source": [
    "# Explore Statistics Canada Data\n",
    "\n",
    "[Provincial GDP by Industry](https://github.com/colliand/economic-analysis/blob/master/provincial-gdp-by-industry-API.ipynb)\n",
    "\n",
    "![provincial gdp](https://wwejubwfy.s3.amazonaws.com/economic-analysisprovincial-gdp-by-industry-API.ipynb_at_master__colliandeconomic-analysis_2019-06-08_22-37-22.png)"
   ]
  },
  {
   "cell_type": "markdown",
   "metadata": {
    "slideshow": {
     "slide_type": "subslide"
    }
   },
   "source": [
    "# Explore NSERC Awards Data\n",
    "\n",
    "<br>\n",
    "\n",
    "\n",
    "## [Publicly Available Code](https://github.com/colliand/nserc-analysis/blob/master/Explore-NSERC-Open-Data.ipynb)\n",
    "\n",
    "\n",
    "\n",
    "\n",
    "<img src=\"https://wwejubwfy.s3.amazonaws.com/nserc-1995-2015-explore_2017-06-13_15-17-50.png\" alt=\"Top 10 Institutions\" width=40% align = \"left\">\n",
    "\n",
    "<img src=\"https://wwejubwfy.s3.amazonaws.com/nserc-1995-2015-explore_2017-06-13_15-17-17.png\" alt=\"Top 10 Institutions\" width=40% align = \"right\">"
   ]
  },
  {
   "cell_type": "markdown",
   "metadata": {
    "collapsed": true,
    "slideshow": {
     "slide_type": "subslide"
    }
   },
   "source": [
    "# Driving Reproducible Research: LIGO / CERN\n",
    "\n",
    "\n",
    "* [LIGO Notebook](https://cybera.syzygy.ca/jupyter/user/david.chan/notebooks/jupyter-demo-notebooks/Gravitational%20Waves%20Tutorial/GW150914_tutorial.ipynb)\n",
    "\n",
    "![LIGO signal](https://wwejubwfy.s3.amazonaws.com/GW150914_tutorial-2016-11-13-20-26-04.jpg)\n",
    "\n",
    "Clone repo and run/customize/build [using syzygy](https://cybera.syzygy.ca/jupyter/user/david.chan/notebooks/jupyter-demo-notebooks/Gravitational%20Waves%20Tutorial/GW150914_tutorial.ipynb). "
   ]
  },
  {
   "cell_type": "markdown",
   "metadata": {
    "slideshow": {
     "slide_type": "subslide"
    }
   },
   "source": [
    "# Education and Research Communities"
   ]
  },
  {
   "cell_type": "markdown",
   "metadata": {
    "slideshow": {
     "slide_type": "fragment"
    }
   },
   "source": [
    "1. Berkeley Data Science Course: Computational and Inferential Thinking\n",
    "2. Quantitative Economics\n",
    "3. UBC Scientific Software Seminar: Deep Learning and Neural Networks in Python\n",
    "4. Python for Digital Humanities\n",
    "5. Pangeo\n",
    "\n",
    "<br>\n",
    "\n"
   ]
  },
  {
   "cell_type": "markdown",
   "metadata": {
    "slideshow": {
     "slide_type": "fragment"
    }
   },
   "source": [
    "Other examples:\n",
    "\n",
    "* SFU: [STAT201: Statistics for the Life Sciences](https://github.com/wruth1/Stat-201-Jupyter)\n",
    "* UBC: [MAT210 Mathematical Computing](https://github.com/patrickwalls/math210)\n",
    "* Calgary: [MAT651: Mathematical Modeling for Industry](https://github.com/mlamoureux/Math651w17/blob/master/Lec1_CourseInfo.ipynb)"
   ]
  },
  {
   "cell_type": "markdown",
   "metadata": {
    "collapsed": true,
    "slideshow": {
     "slide_type": "subslide"
    }
   },
   "source": [
    "# Computational and Inferential Thinking\n",
    "\n",
    "\n",
    "## First year data science course at UC Berkeley\n",
    "\n",
    "### Uses a Jupyter notebook based textbook\n",
    "\n",
    "### [inferentialthinking.com](http://inferentialthinking.com)"
   ]
  },
  {
   "cell_type": "markdown",
   "metadata": {
    "slideshow": {
     "slide_type": "subslide"
    }
   },
   "source": [
    "\n",
    "\n",
    "# Quantitative Economics: Open Source Course for Economic Modeling\n",
    "\n",
    "## Led by [Thomas Sargent of NYU](https://en.wikipedia.org/wiki/Thomas_J._Sargent), 2011 Nobel Laureate (Economics)\n",
    "\n",
    "## [QuantEcon](https://quantecon.org/)"
   ]
  },
  {
   "cell_type": "markdown",
   "metadata": {
    "slideshow": {
     "slide_type": "subslide"
    }
   },
   "source": [
    "# Deep Learning and Neural Networks in Python\n",
    "\n",
    "## Interdisciplinary Learning Seminar at UBC built atop Jupyter\n",
    "\n",
    "## [UBCS3 on GitHub](https://github.com/ubcs3/2017-Winter)"
   ]
  },
  {
   "cell_type": "markdown",
   "metadata": {
    "slideshow": {
     "slide_type": "subslide"
    }
   },
   "source": [
    "# Python Programming for Humanities\n",
    "\n",
    "## [Natural Language Processing](https://www.karsdorp.io/python-course/)"
   ]
  },
  {
   "cell_type": "markdown",
   "metadata": {
    "slideshow": {
     "slide_type": "subslide"
    }
   },
   "source": [
    "# [Pangeo.io](http://pangeo.io/)\n",
    "\n",
    "## A community platform for Big Data geoscience"
   ]
  },
  {
   "cell_type": "markdown",
   "metadata": {
    "slideshow": {
     "slide_type": "subslide"
    }
   },
   "source": [
    "# Academy-Industry Examples"
   ]
  },
  {
   "cell_type": "markdown",
   "metadata": {
    "slideshow": {
     "slide_type": "fragment"
    }
   },
   "source": [
    "## [bcdata workshop](http://workshop.bcdata.ca/2017/#projects)\n",
    "\n",
    "* [Industrial Projects appraoch by academy-industry collaboration team](http://workshop.bcdata.ca/2018/#projects)\n",
    "* Example: [Genomic exploration of septic shock data](http://workshop.bcdata.ca/2018/project/project-2/) (led by [Keith Walley](https://www.hli.ubc.ca/profile/walley/keith))"
   ]
  },
  {
   "cell_type": "markdown",
   "metadata": {
    "slideshow": {
     "slide_type": "slide"
    }
   },
   "source": [
    "# 2. Syzygy\n",
    "\n"
   ]
  },
  {
   "cell_type": "markdown",
   "metadata": {
    "slideshow": {
     "slide_type": "subslide"
    }
   },
   "source": [
    "# 2. Syzygy\n",
    "\n",
    "\n",
    "\n",
    "### Scenario 1: Universities\n",
    "\n",
    "+    Campus-wide interactive computing\n",
    "+    LMS, SSO, library data integrations\n",
    "+    Last mile for computing in courses\n"
   ]
  },
  {
   "cell_type": "markdown",
   "metadata": {
    "slideshow": {
     "slide_type": "fragment"
    }
   },
   "source": [
    "### Scenario 2: Research communities\n",
    "\n",
    "+ Curated interactive computing\n",
    "+ Research data integrations"
   ]
  },
  {
   "cell_type": "markdown",
   "metadata": {
    "slideshow": {
     "slide_type": "subslide"
    }
   },
   "source": [
    "## [Map of Installations](https://www.google.com/maps/d/embed?mid=1nzSAGLSn8eWdfQ6K7zTw-31h82I&hl=en)"
   ]
  },
  {
   "cell_type": "markdown",
   "metadata": {
    "slideshow": {
     "slide_type": "subslide"
    }
   },
   "source": [
    "![syzygy](https://intro.syzygy.ca/img/syzygy.jpg)"
   ]
  },
  {
   "cell_type": "markdown",
   "metadata": {
    "collapsed": true,
    "slideshow": {
     "slide_type": "subslide"
    }
   },
   "source": [
    "# Initial Installations\n",
    "\n",
    "![installations](https://wwejubwfy.s3.amazonaws.com/Web_Image_2017-06-15_10-17-28.png)"
   ]
  },
  {
   "cell_type": "markdown",
   "metadata": {
    "slideshow": {
     "slide_type": "subslide"
    }
   },
   "source": [
    "# Active Hubs\n",
    "\n",
    "last update: <2019-06-08 Sat> \n",
    "\n",
    "1.   [bcdata](https://bcdata.syzygy.ca)\n",
    "-   [Brock](https://brocku.syzygy.ca/)\n",
    "-   [Cybera](https://cybera.syzygy.ca)\n",
    "-   [GNU Octave](https://octave.syzygy.ca)\n",
    "-   [iReceptor](https://ireceptor.syzygy.ca/)\n",
    "-   [McGill](https://mcgill.syzygy.ca)\n",
    "-   [McMaster](https://mcmaster.syzygy.ca)\n",
    "-   [PIMS](https://pims.syzygy.ca)\n",
    "-   [Queen's U](https://queensu.syzygy.ca)\n",
    "-   [SFU](https://sfu.syzygy.ca)\n",
    "-   [U Alberta](https://ualberta.syzygy.ca)\n",
    "-   [U Calgary](https://ucalgary.syzygy.ca)\n",
    "-   [U Lethbridge](https://uleth.syzygy.ca)\n",
    "-   [U Manitoba](https://umanitoba.syzygy.ca)\n",
    "-   [U Montreal](https://umontreal.syzygy.ca)\n",
    "-   [U New Brunswick](https://unb.syzygy.ca)\n",
    "-   [U Ottawa](https://uottawa.syzygy.ca)\n",
    "-   [U Regina](https://uregina.syzygy.ca)\n",
    "-   [U Saskatchewan](https://usask.syzygy.ca)\n",
    "-   [U Toronto](https://utoronto.syzygy.ca)\n",
    "-   [U Victoria](https://uvic.syzygy.ca)\n",
    "-   [U Washington](https://uw.syzygy.ca)\n",
    "-   U Washington GPU\n",
    "-   [U Waterloo](https://uwaterloo.syzygy.ca)\n",
    "-   [UBC](https://ubc.syzygy.ca)\n",
    "-   [VSE](https://vse.syzygy.ca)\n",
    "-   [York U](https://yorku.syzygy.ca)\n",
    "\n"
   ]
  },
  {
   "cell_type": "markdown",
   "metadata": {
    "slideshow": {
     "slide_type": "subslide"
    }
   },
   "source": [
    "![syzygy stats](https://wwejubwfy.s3.amazonaws.com/Grafana_-_Syzygy_Global_2019-06-08_23-38-14.png)"
   ]
  },
  {
   "cell_type": "markdown",
   "metadata": {
    "collapsed": true,
    "slideshow": {
     "slide_type": "subslide"
    }
   },
   "source": [
    "# Current Status\n",
    "\n",
    "## [stats.syzygy.ca](https://stats.syzygy.ca/grafana/d/M7PC-woik/syzygy-global?orgId=1)\n",
    "\n",
    "last update: <2019-06-08 Sat> \n",
    "\n",
    "+ 15,274 Users\n",
    "+ Single-sign-on hubs for 20 universities\n",
    "+ specialized hubs for research communities\n",
    "+ Served from multiple cloud and local infrastructures\n",
    "\n",
    "\n",
    "### Compute Canada Allocation (April 2019 -- March 2020)\n",
    "\n",
    "* 944 VCPU years on the arbutus-persistent-cloud system\n",
    "* 9,216 GB of cloud storage on the arbutus-persistent-cloud system\n",
    "* 5,310 GB of RAM on the arbutus-persistent-cloud system\n",
    "* 354 volumes on the arbutus-persistent-cloud system\n",
    "* 15 snapshots on the arbutus-persistent-cloud system\n",
    "* 125 Floating IP addresses on the arbutus-persistent-cloud system\n",
    "\n"
   ]
  },
  {
   "cell_type": "markdown",
   "metadata": {
    "slideshow": {
     "slide_type": "fragment"
    }
   },
   "source": [
    "### Previous Allocation\n",
    "\n",
    "* 240 VCPU years\n",
    "* 3,072 GB of storage"
   ]
  },
  {
   "cell_type": "markdown",
   "metadata": {
    "collapsed": true,
    "slideshow": {
     "slide_type": "subslide"
    }
   },
   "source": [
    "# Infrastructure Provision\n",
    "\n",
    "## Infrastructure vs service provision image\n",
    "\n",
    "<img src=\"https://wwejubwfy.s3.amazonaws.com/Web_Image_2017-06-15_10-17-54.png\" width =\"75%\"/>"
   ]
  },
  {
   "cell_type": "markdown",
   "metadata": {
    "collapsed": true,
    "slideshow": {
     "slide_type": "slide"
    }
   },
   "source": [
    "# 3. Lessons Learned\n"
   ]
  },
  {
   "cell_type": "markdown",
   "metadata": {
    "slideshow": {
     "slide_type": "subslide"
    }
   },
   "source": [
    "# 3. Lessons Learned\n",
    "\n",
    "Convergent research, reproducibility, data integration, knowedge mobilization, international partnerships,..."
   ]
  },
  {
   "cell_type": "markdown",
   "metadata": {
    "slideshow": {
     "slide_type": "fragment"
    }
   },
   "source": [
    "\n",
    " +   Transdisciplinary transformation is underway\n",
    " +   Scalability strategy has been identified → how to pay for it?\n",
    " +   Curriculum redesign challenge remains\n",
    " +   Who should own interactive computing stack?\n"
   ]
  },
  {
   "cell_type": "markdown",
   "metadata": {
    "slideshow": {
     "slide_type": "subslide"
    }
   },
   "source": [
    "# Growing demand for interactive computing:\n",
    "\n",
    "\n",
    "<br>\n",
    "\n",
    "\n"
   ]
  },
  {
   "cell_type": "markdown",
   "metadata": {
    "slideshow": {
     "slide_type": "fragment"
    }
   },
   "source": [
    "+ Universities\n",
    "\n"
   ]
  },
  {
   "cell_type": "markdown",
   "metadata": {
    "slideshow": {
     "slide_type": "fragment"
    }
   },
   "source": [
    "\n",
    "+ Research communities"
   ]
  },
  {
   "cell_type": "markdown",
   "metadata": {
    "slideshow": {
     "slide_type": "fragment"
    }
   },
   "source": [
    "# How should interactive computing demand be met?"
   ]
  },
  {
   "cell_type": "markdown",
   "metadata": {
    "slideshow": {
     "slide_type": "subslide"
    }
   },
   "source": [
    "# Thought Experiment"
   ]
  },
  {
   "cell_type": "markdown",
   "metadata": {
    "slideshow": {
     "slide_type": "fragment"
    }
   },
   "source": [
    "+ Should FedEx own Email?"
   ]
  },
  {
   "cell_type": "markdown",
   "metadata": {
    "slideshow": {
     "slide_type": "fragment"
    }
   },
   "source": [
    "+ Who should own Email?"
   ]
  },
  {
   "cell_type": "markdown",
   "metadata": {
    "slideshow": {
     "slide_type": "fragment"
    }
   },
   "source": [
    "# Who should own the interactive computing stack?"
   ]
  },
  {
   "cell_type": "markdown",
   "metadata": {
    "slideshow": {
     "slide_type": "fragment"
    }
   },
   "source": [
    "+ Amazon, Google, Microsoft, IBM?"
   ]
  },
  {
   "cell_type": "markdown",
   "metadata": {
    "slideshow": {
     "slide_type": "fragment"
    }
   },
   "source": [
    "+ A nonprofit or open source consortium?"
   ]
  },
  {
   "cell_type": "markdown",
   "metadata": {
    "slideshow": {
     "slide_type": "subslide"
    }
   },
   "source": [
    "![IBM Watson Studio](https://wwejubwfy.s3.amazonaws.com/Notebooks_-_IBM_Watson_2019-06-09_00-51-48.png)"
   ]
  },
  {
   "cell_type": "markdown",
   "metadata": {
    "slideshow": {
     "slide_type": "subslide"
    }
   },
   "source": [
    "![Google Colab](https://wwejubwfy.s3.amazonaws.com/Welcome_To_Colaboratory_-_Colaboratory_2019-06-09_00-44-53.png)"
   ]
  },
  {
   "cell_type": "markdown",
   "metadata": {
    "slideshow": {
     "slide_type": "subslide"
    }
   },
   "source": [
    "![Amazon Sagemaker](https://wwejubwfy.s3.amazonaws.com/Build_Train_and_Deploy_Machine_Learning_Models__Amazon_SageMaker_2019-06-09_00-46-21.png)"
   ]
  },
  {
   "cell_type": "markdown",
   "metadata": {
    "slideshow": {
     "slide_type": "subslide"
    }
   },
   "source": [
    "![Microsoft Azure Notebooks](https://wwejubwfy.s3.amazonaws.com/Microsoft_Azure_Notebooks_2019-06-09_00-47-46.png)"
   ]
  },
  {
   "cell_type": "markdown",
   "metadata": {
    "slideshow": {
     "slide_type": "slide"
    }
   },
   "source": [
    "# 4. Future State"
   ]
  },
  {
   "cell_type": "markdown",
   "metadata": {
    "slideshow": {
     "slide_type": "subslide"
    }
   },
   "source": [
    "# 4. Future State\n",
    "\n",
    "Example nonprofits serving global research communities\n",
    "\n",
    "+ [JSTOR](https://about.jstor.org/mission-history/)\n",
    "+ [arXiv.org](https://arxiv.org/help/general)\n"
   ]
  },
  {
   "cell_type": "markdown",
   "metadata": {
    "slideshow": {
     "slide_type": "subslide"
    }
   },
   "source": [
    "# Interactive Computing Nonprofit Vision Principles\n",
    "\n",
    "+    Ubiquitous curated interactive computing\n",
    "+    Align with university mission\n",
    "+    Openly share best practices and code\n",
    "+    Collaborate instead of compete\n",
    "+    Cloud infrastructure agnostic\n",
    "+    Sustainable operation\n"
   ]
  },
  {
   "cell_type": "markdown",
   "metadata": {
    "slideshow": {
     "slide_type": "subslide"
    }
   },
   "source": [
    "![2i2c](https://wwejubwfy.s3.amazonaws.com/ten.blue_2019-06-09_00-57-48.png)"
   ]
  },
  {
   "cell_type": "markdown",
   "metadata": {
    "slideshow": {
     "slide_type": "subslide"
    }
   },
   "source": [
    "\n",
    "## Join 2i2c? \n",
    "\n",
    "### [Nominate a 2i2c partner](https://docs.google.com/forms/d/e/1FAIpQLSdhMwDFUFFXGfcRNYk6m3SanRIQZynuqFFliBofkuXNK7SIWg/viewform)\n"
   ]
  },
  {
   "cell_type": "markdown",
   "metadata": {
    "slideshow": {
     "slide_type": "subslide"
    }
   },
   "source": [
    "## Try it out: \n",
    "\n",
    "### https://pims.syzygy.ca (Google authentication)\n",
    "\n",
    "### https://uvic.syzygy.ca (UVic Sign in Service)\n"
   ]
  },
  {
   "cell_type": "markdown",
   "metadata": {
    "collapsed": true,
    "slideshow": {
     "slide_type": "subslide"
    }
   },
   "source": [
    "# Thank you!\n",
    "\n",
    "### Questions?"
   ]
  }
 ],
 "metadata": {
  "anaconda-cloud": {},
  "celltoolbar": "Slideshow",
  "kernelspec": {
   "display_name": "Python 3",
   "language": "python",
   "name": "python3"
  },
  "language_info": {
   "codemirror_mode": {
    "name": "ipython",
    "version": 3
   },
   "file_extension": ".py",
   "mimetype": "text/x-python",
   "name": "python",
   "nbconvert_exporter": "python",
   "pygments_lexer": "ipython3",
   "version": "3.7.3"
  },
  "nbpresent": {
   "slides": {
    "0750a42e-71e1-4563-8091-1e88a7a75e84": {
     "id": "0750a42e-71e1-4563-8091-1e88a7a75e84",
     "prev": "0af6b316-d47b-40fc-9a1b-1dc010bd41c4",
     "regions": {
      "4c9ed648-14df-426e-83ef-c80e55b08b3a": {
       "attrs": {
        "height": 0.8,
        "width": 0.8,
        "x": 0.1,
        "y": 0.1
       },
       "content": {
        "cell": "ff7d60e8-f934-4461-b193-884d6ffa779a",
        "part": "whole"
       },
       "id": "4c9ed648-14df-426e-83ef-c80e55b08b3a"
      }
     }
    },
    "09f655fa-9106-419d-bce3-2a4b91118923": {
     "id": "09f655fa-9106-419d-bce3-2a4b91118923",
     "prev": "417de7b6-6ae1-4cc2-a814-046a15640e0d",
     "regions": {
      "b272ae68-3313-406e-8062-90ba5429495b": {
       "attrs": {
        "height": 0.8,
        "width": 0.8,
        "x": 0.1,
        "y": 0.1
       },
       "content": {
        "cell": "d4b48ed5-e2b2-4c8f-9972-20c7e7751f5e",
        "part": "whole"
       },
       "id": "b272ae68-3313-406e-8062-90ba5429495b"
      }
     }
    },
    "0af6b316-d47b-40fc-9a1b-1dc010bd41c4": {
     "id": "0af6b316-d47b-40fc-9a1b-1dc010bd41c4",
     "prev": "64c060e9-444d-46b3-a695-c181dfc4b08d",
     "regions": {
      "0d0094a0-c23a-4a3a-b637-808887e9a05f": {
       "attrs": {
        "height": 0.8,
        "width": 0.8,
        "x": 0.1,
        "y": 0.1
       },
       "content": {
        "cell": "01831243-4472-49fa-b163-c8857b1f8a7e",
        "part": "whole"
       },
       "id": "0d0094a0-c23a-4a3a-b637-808887e9a05f"
      }
     }
    },
    "10903ea8-8dda-4310-bb0e-f4e858353924": {
     "id": "10903ea8-8dda-4310-bb0e-f4e858353924",
     "prev": "d0338262-3473-4b35-a1f4-734cdb74638c",
     "regions": {
      "87c15ae6-1d38-4226-a7cc-cea4be8811b3": {
       "attrs": {
        "height": 0.4,
        "width": 0.8,
        "x": 0.1,
        "y": 0.5
       },
       "content": {
        "cell": "ecbec2ed-5bdc-45b0-8dab-b6999e07b5b2",
        "part": "whole"
       },
       "id": "87c15ae6-1d38-4226-a7cc-cea4be8811b3"
      },
      "9904b277-df38-43fb-a754-ab2a438539c9": {
       "attrs": {
        "height": 0.8,
        "width": 0.8,
        "x": 0.1,
        "y": 0.1
       },
       "content": {
        "cell": "8c1e6799-c60d-481d-b724-43836e12c7cd",
        "part": "whole"
       },
       "id": "9904b277-df38-43fb-a754-ab2a438539c9"
      }
     }
    },
    "18951ba2-4aa2-4018-a4f5-3ad38b1ceafe": {
     "id": "18951ba2-4aa2-4018-a4f5-3ad38b1ceafe",
     "prev": "09f655fa-9106-419d-bce3-2a4b91118923",
     "regions": {
      "f606bb53-639d-4384-814f-22bb8de508bc": {
       "attrs": {
        "height": 0.8,
        "width": 0.8,
        "x": 0.1,
        "y": 0.1
       },
       "content": {
        "cell": "17290fff-6d84-4024-9245-31fb865d977a",
        "part": "whole"
       },
       "id": "f606bb53-639d-4384-814f-22bb8de508bc"
      }
     }
    },
    "282ccaa4-7a85-4dfe-b2cc-2137da549034": {
     "id": "282ccaa4-7a85-4dfe-b2cc-2137da549034",
     "prev": "b00fcc1b-885e-478e-af6d-89ccfb6ce92a",
     "regions": {
      "38e0c720-bd92-4b0f-88f3-82b8c389b28b": {
       "attrs": {
        "height": 0.8,
        "width": 0.8,
        "x": 0.1,
        "y": 0.1
       },
       "content": {
        "cell": "d01b7cf7-71e7-4ee1-8378-c3cec27d9f56",
        "part": "whole"
       },
       "id": "38e0c720-bd92-4b0f-88f3-82b8c389b28b"
      },
      "5d9c5528-d25e-4ed9-b262-4634411ae6ee": {
       "attrs": {
        "height": 0.4,
        "width": 0.8,
        "x": 0.1,
        "y": 0.5
       },
       "content": {
        "cell": "6e612092-ea04-4854-b201-94f40a1e97e7",
        "part": "whole"
       },
       "id": "5d9c5528-d25e-4ed9-b262-4634411ae6ee"
      },
      "f6f09579-ab52-4ad5-8135-63cbe65c3595": {
       "attrs": {
        "height": 0.4,
        "width": 0.8,
        "x": 0.1,
        "y": 0.5
       },
       "content": {
        "cell": "6dd314db-b9c1-4a86-95ca-932c7a7512c4",
        "part": "whole"
       },
       "id": "f6f09579-ab52-4ad5-8135-63cbe65c3595"
      }
     }
    },
    "312a7fe0-0d0c-44fa-88a6-c3b8094c9993": {
     "id": "312a7fe0-0d0c-44fa-88a6-c3b8094c9993",
     "prev": "0750a42e-71e1-4563-8091-1e88a7a75e84",
     "regions": {
      "1577a8f4-0ab5-40b1-b005-8442ee599554": {
       "attrs": {
        "height": 0.8,
        "width": 0.8,
        "x": 0.1,
        "y": 0.1
       },
       "content": {
        "cell": "38d6e0d5-0b31-4d45-9643-0806f23f560c",
        "part": "whole"
       },
       "id": "1577a8f4-0ab5-40b1-b005-8442ee599554"
      }
     }
    },
    "38494e24-2757-46a2-b0e0-62700caaa5a9": {
     "id": "38494e24-2757-46a2-b0e0-62700caaa5a9",
     "prev": "282ccaa4-7a85-4dfe-b2cc-2137da549034",
     "regions": {
      "b7e01c33-728c-43b5-859e-09a6a84fe3a6": {
       "attrs": {
        "height": 0.8,
        "width": 0.8,
        "x": 0.1,
        "y": 0.1
       },
       "content": {
        "cell": "9a0403dc-10e5-429c-b9ac-44dbcc127f94",
        "part": "whole"
       },
       "id": "b7e01c33-728c-43b5-859e-09a6a84fe3a6"
      },
      "b97213e3-6635-4022-94a2-93874bda7bab": {
       "attrs": {
        "height": 0.4,
        "width": 0.8,
        "x": 0.1,
        "y": 0.5
       },
       "content": {
        "cell": "51bc9bcb-cd3d-4c37-ac19-c0709135690c",
        "part": "whole"
       },
       "id": "b97213e3-6635-4022-94a2-93874bda7bab"
      }
     }
    },
    "417de7b6-6ae1-4cc2-a814-046a15640e0d": {
     "id": "417de7b6-6ae1-4cc2-a814-046a15640e0d",
     "prev": "312a7fe0-0d0c-44fa-88a6-c3b8094c9993",
     "regions": {
      "be84380f-9399-40af-b86f-c3c203342bf0": {
       "attrs": {
        "height": 0.8,
        "width": 0.8,
        "x": 0.1,
        "y": 0.1
       },
       "content": {
        "cell": "eb24a8d9-de0b-4fb0-b9ec-6a912addff3d",
        "part": "whole"
       },
       "id": "be84380f-9399-40af-b86f-c3c203342bf0"
      }
     }
    },
    "5292506b-c2af-459c-8b4b-088e4b9269cc": {
     "id": "5292506b-c2af-459c-8b4b-088e4b9269cc",
     "prev": "8c5072e5-c155-41f5-93f1-832b4d4d05da",
     "regions": {
      "23b522f7-1b14-4fa5-9a25-8d94cffd2011": {
       "attrs": {
        "height": 0.8,
        "width": 0.8,
        "x": 0.1,
        "y": 0.1
       },
       "content": {
        "cell": "a7cd3b7f-f877-4cdb-a5c0-6ed994366cf8",
        "part": "whole"
       },
       "id": "23b522f7-1b14-4fa5-9a25-8d94cffd2011"
      }
     }
    },
    "60bd1e6b-af93-48f7-9722-73f9a09df9d3": {
     "id": "60bd1e6b-af93-48f7-9722-73f9a09df9d3",
     "prev": "6e1632c1-fc9d-4b25-86f9-14324a6dbb1b",
     "regions": {
      "8765990b-4f79-498e-9e6e-20419fc811f5": {
       "attrs": {
        "height": 0.8,
        "width": 0.8,
        "x": 0.1,
        "y": 0.1
       },
       "content": {
        "cell": "d70b43e9-8f28-450c-9db8-889773794663",
        "part": "whole"
       },
       "id": "8765990b-4f79-498e-9e6e-20419fc811f5"
      },
      "cef30bf7-645d-42c4-9e45-7629794b2aae": {
       "attrs": {
        "height": 0.4,
        "width": 0.8,
        "x": 0.1,
        "y": 0.5
       },
       "content": {
        "cell": "f0babef9-83cd-4099-a1d5-7cebd5f624ae",
        "part": "whole"
       },
       "id": "cef30bf7-645d-42c4-9e45-7629794b2aae"
      }
     }
    },
    "64c060e9-444d-46b3-a695-c181dfc4b08d": {
     "id": "64c060e9-444d-46b3-a695-c181dfc4b08d",
     "prev": "5292506b-c2af-459c-8b4b-088e4b9269cc",
     "regions": {
      "f934a63c-c414-4eae-9658-8803de6cd07b": {
       "attrs": {
        "height": 0.8,
        "width": 0.8,
        "x": 0.1,
        "y": 0.1
       },
       "content": {
        "cell": "272e6edf-702c-4dad-892b-3d2ff2ea07df",
        "part": "whole"
       },
       "id": "f934a63c-c414-4eae-9658-8803de6cd07b"
      }
     }
    },
    "6e1632c1-fc9d-4b25-86f9-14324a6dbb1b": {
     "id": "6e1632c1-fc9d-4b25-86f9-14324a6dbb1b",
     "prev": "10903ea8-8dda-4310-bb0e-f4e858353924",
     "regions": {
      "957e1c79-253d-4e22-acb1-9ddeb9696382": {
       "attrs": {
        "height": 0.8,
        "width": 0.8,
        "x": 0.1,
        "y": 0.1
       },
       "content": {
        "cell": "1f14f9cf-fe4c-4b04-aa8d-325e3f0f36c0",
        "part": "whole"
       },
       "id": "957e1c79-253d-4e22-acb1-9ddeb9696382"
      }
     }
    },
    "8c5072e5-c155-41f5-93f1-832b4d4d05da": {
     "id": "8c5072e5-c155-41f5-93f1-832b4d4d05da",
     "prev": null,
     "regions": {
      "1529ce9c-f02b-420c-9d08-553bf6ba8624": {
       "attrs": {
        "height": 0.8,
        "width": 0.8,
        "x": 0.1,
        "y": 0.1
       },
       "content": {
        "cell": "2bf1e17f-b9af-4103-8d16-9a5c50b83336",
        "part": "whole"
       },
       "id": "1529ce9c-f02b-420c-9d08-553bf6ba8624"
      }
     }
    },
    "a55d1bd8-3a4d-4fa2-9d33-52e86bea9264": {
     "id": "a55d1bd8-3a4d-4fa2-9d33-52e86bea9264",
     "prev": "18951ba2-4aa2-4018-a4f5-3ad38b1ceafe",
     "regions": {
      "6276dd8f-3b5e-432e-bcee-213ff9ebe745": {
       "attrs": {
        "height": 0.8,
        "width": 0.8,
        "x": 0.1,
        "y": 0.1
       },
       "content": {
        "cell": "1a530489-5d48-49e6-b074-db15c93473e2",
        "part": "whole"
       },
       "id": "6276dd8f-3b5e-432e-bcee-213ff9ebe745"
      }
     }
    },
    "b00fcc1b-885e-478e-af6d-89ccfb6ce92a": {
     "id": "b00fcc1b-885e-478e-af6d-89ccfb6ce92a",
     "prev": "b60020c3-0eb5-488e-abaa-1ba729adce5e",
     "regions": {
      "0d081fcc-d1ad-4751-a8f9-d4b61bbfb341": {
       "attrs": {
        "height": 0.8,
        "width": 0.8,
        "x": 0.1,
        "y": 0.1
       },
       "content": {
        "cell": "047178fb-de6f-4a29-95c1-90651b17d8ab",
        "part": "whole"
       },
       "id": "0d081fcc-d1ad-4751-a8f9-d4b61bbfb341"
      }
     }
    },
    "b60020c3-0eb5-488e-abaa-1ba729adce5e": {
     "id": "b60020c3-0eb5-488e-abaa-1ba729adce5e",
     "prev": "a55d1bd8-3a4d-4fa2-9d33-52e86bea9264",
     "regions": {
      "298823db-92e4-4669-8e1f-a58679b4235b": {
       "attrs": {
        "height": 0.8,
        "width": 0.8,
        "x": 0.1,
        "y": 0.1
       },
       "content": {
        "cell": "c6a93896-9a19-4f28-a00d-2b03798158bc",
        "part": "whole"
       },
       "id": "298823db-92e4-4669-8e1f-a58679b4235b"
      }
     }
    },
    "d0338262-3473-4b35-a1f4-734cdb74638c": {
     "id": "d0338262-3473-4b35-a1f4-734cdb74638c",
     "prev": "38494e24-2757-46a2-b0e0-62700caaa5a9",
     "regions": {
      "19a196f1-da28-4996-85bc-e4af86940ca1": {
       "attrs": {
        "height": 0.8,
        "width": 0.8,
        "x": 0.1,
        "y": 0.1
       },
       "content": {
        "cell": "f73c953e-430f-4dba-a91e-3ec76856fa0a",
        "part": "whole"
       },
       "id": "19a196f1-da28-4996-85bc-e4af86940ca1"
      }
     }
    }
   },
   "themes": {}
  }
 },
 "nbformat": 4,
 "nbformat_minor": 1
}
